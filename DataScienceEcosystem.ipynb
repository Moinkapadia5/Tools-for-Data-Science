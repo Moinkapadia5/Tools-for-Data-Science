{
 "cells": [
  {
   "cell_type": "markdown",
   "id": "65da6120",
   "metadata": {},
   "source": [
    "# Data Science Tools and Ecosystem"
   ]
  },
  {
   "cell_type": "markdown",
   "id": "f201ea35",
   "metadata": {},
   "source": [
    "## Introduction \n",
    "In this notebook, Data Science Tools and Ecosystem are summarized"
   ]
  },
  {
   "cell_type": "markdown",
   "id": "cdaacb52",
   "metadata": {},
   "source": [
    "## Popular Data Science Languages\n",
    "\n",
    "Some of the popular languages that Data Scientists use are:\n",
    "\n",
    "- Python\n",
    "- R\n",
    "- SQL\n",
    "- Julia\n",
    "- MATLAB\n",
    "- Scala\n",
    "- Java"
   ]
  },
  {
   "cell_type": "markdown",
   "id": "faf787cf",
   "metadata": {},
   "source": [
    "## Commonly Used Libraries in Data Science\n",
    "\n",
    "Some of the commonly used libraries in Data Science include:\n",
    "\n",
    "- NumPy: A library for scientific computing with Python that enables efficient numerical operations on large arrays and matrices.\n",
    "\n",
    "- Pandas: A library for data manipulation and analysis that provides data structures for efficiently handling large datasets.\n",
    "\n",
    "- Matplotlib: A library for creating static, animated, and interactive visualizations in Python.\n",
    "\n",
    "- Seaborn: A library based on Matplotlib that provides additional tools for visualizing statistical data.\n",
    "\n",
    "- Scikit-learn: A library for machine learning in Python that provides tools for classification, regression, clustering, and dimensionality reduction.\n",
    "\n",
    "- TensorFlow: An open-source machine learning framework developed by Google for building and training deep neural networks.\n",
    "\n",
    "- PyTorch: An open-source machine learning framework developed by Facebook for building and training deep neural networks.\n",
    "\n",
    "- Keras: A high-level neural networks API, written in Python and capable of running on top of TensorFlow, Theano, or CNTK.\n",
    "\n",
    "- NLTK: A platform for building Python programs to work with human language data, such as text.\n",
    "\n",
    "These libraries provide a wealth of functionality for Data Scientists and allow them to efficiently and effectively work with data, build models, and produce insights.\n",
    "\n",
    "\n",
    "\n",
    "\n"
   ]
  },
  {
   "cell_type": "markdown",
   "id": "bbfda078",
   "metadata": {},
   "source": [
    "## Data Science Tools\n",
    "\n",
    "| Tools |\n",
    "|-------|\n",
    "| Python |\n",
    "| R |\n",
    "| SQL |\n",
    "| Julia |\n",
    "| MATLAB |\n",
    "| Scala |\n",
    "| Java |\n",
    "| NumPy |\n",
    "| Pandas |\n",
    "| Matplotlib |\n",
    "| Seaborn |\n",
    "| Scikit-learn |\n",
    "| TensorFlow |\n",
    "| PyTorch |\n",
    "| Keras |\n",
    "| NLTK |\n"
   ]
  },
  {
   "cell_type": "markdown",
   "id": "8770e2d4",
   "metadata": {},
   "source": [
    "## Evaluating Arithmetic Expressions in Python\n",
    "\n",
    "Arithmetic expressions are used in Data Science to perform mathematical operations on data. In Python, arithmetic expressions can be evaluated using a variety of operators, including addition (+), subtraction (-), multiplication (*), division (/), and modulus (%). Below are a few examples of evaluating arithmetic expressions in Python:"
   ]
  },
  {
   "cell_type": "code",
   "execution_count": 1,
   "id": "243e9450",
   "metadata": {},
   "outputs": [
    {
     "name": "stdout",
     "output_type": "stream",
     "text": [
      "17\n"
     ]
    }
   ],
   "source": [
    "# This is a simple arithmetic expression to multiply then add integers\n",
    "a = 3\n",
    "b = 4\n",
    "c = a * b + 5\n",
    "print(c)"
   ]
  },
  {
   "cell_type": "code",
   "execution_count": 2,
   "id": "a678b578",
   "metadata": {},
   "outputs": [
    {
     "name": "stdout",
     "output_type": "stream",
     "text": [
      "The number of hours is: 3.3333333333333335\n"
     ]
    }
   ],
   "source": [
    "# This will Convert 200 minutes to hours by dividing by 60\n",
    "minutes = 200\n",
    "hours = minutes / 60\n",
    "print(\"The number of hours is:\", hours)"
   ]
  },
  {
   "cell_type": "markdown",
   "id": "523127db",
   "metadata": {},
   "source": [
    "# Objective:\n",
    "Jupyter notebook has capability of learn data science concepts and tools practise python for data science task"
   ]
  },
  {
   "cell_type": "markdown",
   "id": "135a6628",
   "metadata": {},
   "source": [
    "# Author"
   ]
  },
  {
   "cell_type": "markdown",
   "id": "bcb91450",
   "metadata": {},
   "source": [
    "Gulam Moin Kapadia"
   ]
  }
 ],
 "metadata": {
  "kernelspec": {
   "display_name": "Python 3 (ipykernel)",
   "language": "python",
   "name": "python3"
  },
  "language_info": {
   "codemirror_mode": {
    "name": "ipython",
    "version": 3
   },
   "file_extension": ".py",
   "mimetype": "text/x-python",
   "name": "python",
   "nbconvert_exporter": "python",
   "pygments_lexer": "ipython3",
   "version": "3.9.13"
  }
 },
 "nbformat": 4,
 "nbformat_minor": 5
}
